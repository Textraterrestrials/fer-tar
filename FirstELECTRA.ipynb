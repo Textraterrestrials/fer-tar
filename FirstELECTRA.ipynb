{
 "nbformat": 4,
 "nbformat_minor": 0,
 "metadata": {
  "accelerator": "GPU",
  "colab": {
   "name": "FirstELECTRA.ipynb",
   "provenance": [
    {
     "file_id": "1c1UJc5DvJMBqWr5DhQ-rgDg2DXxgQudl",
     "timestamp": 1621132849278
    },
    {
     "file_id": "1_tdPXeEViwUaLzmdSNhPvJ6W4KpGnQXq",
     "timestamp": 1621125827299
    },
    {
     "file_id": "1D6krVG0PPJR2Je9g5eN_2h6JP73_NUXz",
     "timestamp": 1616860165156
    },
    {
     "file_id": "1d_7axqPO6iSbI6joKb5EAFKV2rPmXt6X",
     "timestamp": 1616054665801
    }
   ],
   "collapsed_sections": [],
   "toc_visible": true,
   "machine_shape": "hm"
  },
  "kernelspec": {
   "name": "python3",
   "language": "python",
   "display_name": "Python 3"
  },
  "widgets": {
   "application/vnd.jupyter.widget-state+json": {
    "6700ae3f2258410597d11d0fd51d6b16": {
     "model_module": "@jupyter-widgets/controls",
     "model_name": "HBoxModel",
     "state": {
      "_view_name": "HBoxView",
      "_dom_classes": [],
      "_model_name": "HBoxModel",
      "_view_module": "@jupyter-widgets/controls",
      "_model_module_version": "1.5.0",
      "_view_count": null,
      "_view_module_version": "1.5.0",
      "box_style": "",
      "layout": "IPY_MODEL_08d663265aec4225a3977f69c34c7508",
      "_model_module": "@jupyter-widgets/controls",
      "children": [
       "IPY_MODEL_d1a9196bcd2a46a0aa47f89333d91ec3",
       "IPY_MODEL_19c58908e48d433387a0f0a931e764c1"
      ]
     }
    },
    "08d663265aec4225a3977f69c34c7508": {
     "model_module": "@jupyter-widgets/base",
     "model_name": "LayoutModel",
     "state": {
      "_view_name": "LayoutView",
      "grid_template_rows": null,
      "right": null,
      "justify_content": null,
      "_view_module": "@jupyter-widgets/base",
      "overflow": null,
      "_model_module_version": "1.2.0",
      "_view_count": null,
      "flex_flow": "row wrap",
      "width": "100%",
      "min_width": null,
      "border": null,
      "align_items": null,
      "bottom": null,
      "_model_module": "@jupyter-widgets/base",
      "top": null,
      "grid_column": null,
      "overflow_y": null,
      "overflow_x": null,
      "grid_auto_flow": null,
      "grid_area": null,
      "grid_template_columns": null,
      "flex": null,
      "_model_name": "LayoutModel",
      "justify_items": null,
      "grid_row": null,
      "max_height": null,
      "align_content": null,
      "visibility": null,
      "align_self": null,
      "height": null,
      "min_height": null,
      "padding": null,
      "grid_auto_rows": null,
      "grid_gap": null,
      "max_width": null,
      "order": null,
      "_view_module_version": "1.2.0",
      "grid_template_areas": null,
      "object_position": null,
      "object_fit": null,
      "grid_auto_columns": null,
      "margin": null,
      "display": "inline-flex",
      "left": null
     }
    },
    "d1a9196bcd2a46a0aa47f89333d91ec3": {
     "model_module": "@jupyter-widgets/controls",
     "model_name": "FloatProgressModel",
     "state": {
      "_view_name": "ProgressView",
      "style": "IPY_MODEL_59991d77e6ba4b40afc3bd2ad7a995ce",
      "_dom_classes": [],
      "description": "Validation sanity check:   0%",
      "_model_name": "FloatProgressModel",
      "bar_style": "info",
      "max": 1,
      "_view_module": "@jupyter-widgets/controls",
      "_model_module_version": "1.5.0",
      "value": 0,
      "_view_count": null,
      "_view_module_version": "1.5.0",
      "orientation": "horizontal",
      "min": 0,
      "description_tooltip": null,
      "_model_module": "@jupyter-widgets/controls",
      "layout": "IPY_MODEL_659f5daa26bd48969c517e5b771598eb"
     }
    },
    "19c58908e48d433387a0f0a931e764c1": {
     "model_module": "@jupyter-widgets/controls",
     "model_name": "HTMLModel",
     "state": {
      "_view_name": "HTMLView",
      "style": "IPY_MODEL_e7318c0998c24f299247b16f15a2b3bf",
      "_dom_classes": [],
      "description": "",
      "_model_name": "HTMLModel",
      "placeholder": "​",
      "_view_module": "@jupyter-widgets/controls",
      "_model_module_version": "1.5.0",
      "value": " 0/1 [00:00&lt;?, ?it/s]",
      "_view_count": null,
      "_view_module_version": "1.5.0",
      "description_tooltip": null,
      "_model_module": "@jupyter-widgets/controls",
      "layout": "IPY_MODEL_201d0108d32f40818a2c70a3ddcb54e7"
     }
    },
    "59991d77e6ba4b40afc3bd2ad7a995ce": {
     "model_module": "@jupyter-widgets/controls",
     "model_name": "ProgressStyleModel",
     "state": {
      "_view_name": "StyleView",
      "_model_name": "ProgressStyleModel",
      "description_width": "initial",
      "_view_module": "@jupyter-widgets/base",
      "_model_module_version": "1.5.0",
      "_view_count": null,
      "_view_module_version": "1.2.0",
      "bar_color": null,
      "_model_module": "@jupyter-widgets/controls"
     }
    },
    "659f5daa26bd48969c517e5b771598eb": {
     "model_module": "@jupyter-widgets/base",
     "model_name": "LayoutModel",
     "state": {
      "_view_name": "LayoutView",
      "grid_template_rows": null,
      "right": null,
      "justify_content": null,
      "_view_module": "@jupyter-widgets/base",
      "overflow": null,
      "_model_module_version": "1.2.0",
      "_view_count": null,
      "flex_flow": null,
      "width": null,
      "min_width": null,
      "border": null,
      "align_items": null,
      "bottom": null,
      "_model_module": "@jupyter-widgets/base",
      "top": null,
      "grid_column": null,
      "overflow_y": null,
      "overflow_x": null,
      "grid_auto_flow": null,
      "grid_area": null,
      "grid_template_columns": null,
      "flex": "2",
      "_model_name": "LayoutModel",
      "justify_items": null,
      "grid_row": null,
      "max_height": null,
      "align_content": null,
      "visibility": null,
      "align_self": null,
      "height": null,
      "min_height": null,
      "padding": null,
      "grid_auto_rows": null,
      "grid_gap": null,
      "max_width": null,
      "order": null,
      "_view_module_version": "1.2.0",
      "grid_template_areas": null,
      "object_position": null,
      "object_fit": null,
      "grid_auto_columns": null,
      "margin": null,
      "display": null,
      "left": null
     }
    },
    "e7318c0998c24f299247b16f15a2b3bf": {
     "model_module": "@jupyter-widgets/controls",
     "model_name": "DescriptionStyleModel",
     "state": {
      "_view_name": "StyleView",
      "_model_name": "DescriptionStyleModel",
      "description_width": "",
      "_view_module": "@jupyter-widgets/base",
      "_model_module_version": "1.5.0",
      "_view_count": null,
      "_view_module_version": "1.2.0",
      "_model_module": "@jupyter-widgets/controls"
     }
    },
    "201d0108d32f40818a2c70a3ddcb54e7": {
     "model_module": "@jupyter-widgets/base",
     "model_name": "LayoutModel",
     "state": {
      "_view_name": "LayoutView",
      "grid_template_rows": null,
      "right": null,
      "justify_content": null,
      "_view_module": "@jupyter-widgets/base",
      "overflow": null,
      "_model_module_version": "1.2.0",
      "_view_count": null,
      "flex_flow": null,
      "width": null,
      "min_width": null,
      "border": null,
      "align_items": null,
      "bottom": null,
      "_model_module": "@jupyter-widgets/base",
      "top": null,
      "grid_column": null,
      "overflow_y": null,
      "overflow_x": null,
      "grid_auto_flow": null,
      "grid_area": null,
      "grid_template_columns": null,
      "flex": null,
      "_model_name": "LayoutModel",
      "justify_items": null,
      "grid_row": null,
      "max_height": null,
      "align_content": null,
      "visibility": null,
      "align_self": null,
      "height": null,
      "min_height": null,
      "padding": null,
      "grid_auto_rows": null,
      "grid_gap": null,
      "max_width": null,
      "order": null,
      "_view_module_version": "1.2.0",
      "grid_template_areas": null,
      "object_position": null,
      "object_fit": null,
      "grid_auto_columns": null,
      "margin": null,
      "display": null,
      "left": null
     }
    }
   }
  }
 },
 "cells": [
  {
   "cell_type": "markdown",
   "metadata": {
    "id": "qapkp_iVY2RZ"
   },
   "source": [
    "# SemEval-2020 Task 4: Commonsense Validation and Explanation"
   ]
  },
  {
   "cell_type": "markdown",
   "metadata": {
    "id": "Pn9QomWEYyy7"
   },
   "source": [
    "[![Open In Colab](https://colab.research.google.com/assets/colab-badge.svg)](https://colab.research.google.com/drive/1rlwPIErsvGcYYgM6s_FT9FDn9lcHzvVU?usp=sharing)"
   ]
  },
  {
   "cell_type": "markdown",
   "metadata": {
    "id": "GVbHNfPDYPue"
   },
   "source": [
    "# 0. Getting started"
   ]
  },
  {
   "cell_type": "code",
   "metadata": {
    "colab": {
     "base_uri": "https://localhost:8080/"
    },
    "id": "DwqI8qzhdYju",
    "executionInfo": {
     "status": "ok",
     "timestamp": 1621158355713,
     "user_tz": -120,
     "elapsed": 467,
     "user": {
      "displayName": "Marko Čuljak",
      "photoUrl": "",
      "userId": "08271803314499472938"
     }
    },
    "outputId": "e1f427dd-b361-41a4-8458-9228b632b792"
   },
   "source": [
    "!nvidia-smi"
   ],
   "execution_count": null,
   "outputs": [
    {
     "output_type": "stream",
     "text": [
      "'nvidia-smi' is not recognized as an internal or external command,\n",
      "operable program or batch file.\n"
     ],
     "name": "stderr"
    }
   ]
  },
  {
   "cell_type": "code",
   "metadata": {
    "colab": {
     "base_uri": "https://localhost:8080/"
    },
    "id": "wGooKJp6FNqM",
    "executionInfo": {
     "status": "ok",
     "timestamp": 1621158643055,
     "user_tz": -120,
     "elapsed": 424,
     "user": {
      "displayName": "Marko Čuljak",
      "photoUrl": "",
      "userId": "08271803314499472938"
     }
    },
    "outputId": "7b96c995-db57-4fb7-975e-c0abb575ed8b"
   },
   "source": [
    "from google.colab import drive\n",
    "drive.mount('/content/gdrive')\n"
   ],
   "execution_count": null,
   "outputs": [
    {
     "output_type": "stream",
     "text": [
      "Drive already mounted at /content/gdrive; to attempt to forcibly remount, call drive.mount(\"/content/gdrive\", force_remount=True).\n"
     ],
     "name": "stdout"
    }
   ]
  },
  {
   "cell_type": "code",
   "metadata": {
    "colab": {
     "base_uri": "https://localhost:8080/"
    },
    "id": "f4TWi5mzFOBk",
    "executionInfo": {
     "status": "ok",
     "timestamp": 1621158662424,
     "user_tz": -120,
     "elapsed": 1273,
     "user": {
      "displayName": "Marko Čuljak",
      "photoUrl": "",
      "userId": "08271803314499472938"
     }
    },
    "outputId": "c6c976f0-a184-4bf0-bd99-2b6fafcf0669"
   },
   "source": [
    "%cd /content/gdrive/MyDrive/git/fer-tar"
   ],
   "execution_count": null,
   "outputs": [
    {
     "output_type": "stream",
     "text": [
      "/content/gdrive/.shortcut-targets-by-id/1yfuNPQUT_G0CfNtdGxHhLi96giKyswbZ/git/fer-tar\n"
     ],
     "name": "stdout"
    }
   ]
  },
  {
   "cell_type": "code",
   "metadata": {
    "id": "GXc6AkRJU1mk"
   },
   "source": [
    "!pip install -q pytorch_lightning\n",
    "!pip install -q transformers\n",
    "!pip install -q sentencepiece"
   ],
   "execution_count": null,
   "outputs": []
  },
  {
   "cell_type": "markdown",
   "metadata": {
    "id": "Pg5Rf3l9GvF5"
   },
   "source": [
    "## 0.1. Imports"
   ]
  },
  {
   "cell_type": "code",
   "metadata": {
    "id": "Hq7CWs9EflUU",
    "pycharm": {
     "is_executing": true
    }
   },
   "source": [
    "import importlib\n",
    "import src.models\n",
    "importlib.reload(src.models)"
   ],
   "execution_count": null,
   "outputs": []
  },
  {
   "cell_type": "code",
   "metadata": {
    "id": "_8pW-Ub1GuoO",
    "pycharm": {
     "is_executing": true
    }
   },
   "source": [
    "import pytorch_lightning as pl\n",
    "import torch\n",
    "from torch.utils.data import DataLoader\n",
    "from my_scripts import data\n",
    "from src import encoders\n",
    "from src.models import ElectraClassifier"
   ],
   "execution_count": null,
   "outputs": []
  },
  {
   "cell_type": "code",
   "metadata": {
    "id": "b0QLU3OyWfwf"
   },
   "source": [
    "BATCH_SIZE = 16\n",
    "EPOCHS = 15"
   ],
   "execution_count": null,
   "outputs": []
  },
  {
   "cell_type": "code",
   "metadata": {
    "colab": {
     "base_uri": "https://localhost:8080/",
     "height": 375,
     "referenced_widgets": [
      "6700ae3f2258410597d11d0fd51d6b16",
      "08d663265aec4225a3977f69c34c7508",
      "d1a9196bcd2a46a0aa47f89333d91ec3",
      "19c58908e48d433387a0f0a931e764c1",
      "59991d77e6ba4b40afc3bd2ad7a995ce",
      "659f5daa26bd48969c517e5b771598eb",
      "e7318c0998c24f299247b16f15a2b3bf",
      "201d0108d32f40818a2c70a3ddcb54e7"
     ]
    },
    "id": "jxSUKUCMWJYm",
    "outputId": "40aa937b-d1f4-4cc5-c999-30c165f12ebf"
   },
   "source": [
    "train_ds, val_ds, test_ds = data.ComVEDataset.from_data_folder(x_transforms=[encoders.ElectraEncoder()])\n",
    "train_dataloader = DataLoader(train_ds, batch_size=BATCH_SIZE, shuffle=True)\n",
    "val_dataloader = DataLoader(val_ds, batch_size=len(val_ds))\n",
    "\n",
    "from pytorch_lightning.callbacks.early_stopping import EarlyStopping\n",
    "early_stop_callback = EarlyStopping(\n",
    "   monitor='val_acc',\n",
    "   min_delta=0.00,\n",
    "   patience=5,\n",
    "   verbose=False,\n",
    "   mode='max'\n",
    ")\n",
    "\n",
    "gpus = 1 if torch.cuda.is_available() else 0\n",
    "model = ElectraClassifier()\n",
    "trainer = pl.Trainer(max_epochs=EPOCHS, gpus=gpus, progress_bar_refresh_rate=20, callbacks=[EarlyStopping(monitor='val_loss')], checkpoint_callback=False)\n",
    "trainer.fit(model, train_dataloader, val_dataloader)"
   ],
   "execution_count": null,
   "outputs": [
    {
     "output_type": "stream",
     "text": [
      "Some weights of the model checkpoint at google/electra-small-discriminator were not used when initializing ElectraModel: ['discriminator_predictions.dense.weight', 'discriminator_predictions.dense.bias', 'discriminator_predictions.dense_prediction.bias', 'discriminator_predictions.dense_prediction.weight']\n",
      "- This IS expected if you are initializing ElectraModel from the checkpoint of a model trained on another task or with another architecture (e.g. initializing a BertForSequenceClassification model from a BertForPreTraining model).\n",
      "- This IS NOT expected if you are initializing ElectraModel from the checkpoint of a model that you expect to be exactly identical (initializing a BertForSequenceClassification model from a BertForSequenceClassification model).\n",
      "GPU available: False, used: False\n",
      "TPU available: False, using: 0 TPU cores\n",
      "\n",
      "  | Name        | Type         | Params\n",
      "---------------------------------------------\n",
      "0 | transformer | ElectraModel | 13.5 M\n",
      "1 | dropout     | Dropout      | 0     \n",
      "2 | linear      | Linear       | 257   \n",
      "---------------------------------------------\n",
      "13.5 M    Trainable params\n",
      "0         Non-trainable params\n",
      "13.5 M    Total params\n",
      "53.933    Total estimated model params size (MB)\n"
     ],
     "name": "stderr"
    },
    {
     "output_type": "display_data",
     "data": {
      "application/vnd.jupyter.widget-view+json": {
       "model_id": "6700ae3f2258410597d11d0fd51d6b16",
       "version_minor": 0,
       "version_major": 2
      },
      "text/plain": [
       "HBox(children=(FloatProgress(value=1.0, bar_style='info', description='Validation sanity check', layout=Layout…"
      ]
     },
     "metadata": {
      "tags": []
     }
    },
    {
     "output_type": "stream",
     "text": [
      "/usr/local/lib/python3.7/dist-packages/pytorch_lightning/utilities/distributed.py:69: UserWarning: The dataloader, val dataloader 0, does not have many workers which may be a bottleneck. Consider increasing the value of the `num_workers` argument` (try 4 which is the number of cpus on this machine) in the `DataLoader` init to improve performance.\n",
      "  warnings.warn(*args, **kwargs)\n"
     ],
     "name": "stderr"
    }
   ]
  },
  {
   "cell_type": "markdown",
   "metadata": {
    "id": "VbeDRcvWfXyM"
   },
   "source": [
    "## 0.2. Getting the data"
   ]
  },
  {
   "cell_type": "markdown",
   "metadata": {
    "id": "QqcAYrPamoUD"
   },
   "source": [
    "## 0.3. Preprocessing"
   ]
  },
  {
   "cell_type": "code",
   "metadata": {
    "id": "5X1C9vYqwn43"
   },
   "source": [
    ""
   ],
   "execution_count": null,
   "outputs": []
  }
 ]
}