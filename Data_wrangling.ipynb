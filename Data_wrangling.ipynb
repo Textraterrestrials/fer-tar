{
  "nbformat": 4,
  "nbformat_minor": 0,
  "metadata": {
    "colab": {
      "name": "Data wrangling.ipynb",
      "provenance": [],
      "toc_visible": true
    },
    "kernelspec": {
      "name": "python3",
      "display_name": "Python 3"
    },
    "language_info": {
      "name": "python"
    },
    "widgets": {
      "application/vnd.jupyter.widget-state+json": {
        "e154a2ceabe44e5083fac8dba41796d5": {
          "model_module": "@jupyter-widgets/controls",
          "model_name": "HBoxModel",
          "state": {
            "_view_name": "HBoxView",
            "_dom_classes": [],
            "_model_name": "HBoxModel",
            "_view_module": "@jupyter-widgets/controls",
            "_model_module_version": "1.5.0",
            "_view_count": null,
            "_view_module_version": "1.5.0",
            "box_style": "",
            "layout": "IPY_MODEL_797e5c3206954a3faadcbaaed9889b2a",
            "_model_module": "@jupyter-widgets/controls",
            "children": [
              "IPY_MODEL_41746008d9ad4a30b06779db3c1d4f5c",
              "IPY_MODEL_cd8d47240edb469aa82dfab9c5f61501"
            ]
          }
        },
        "797e5c3206954a3faadcbaaed9889b2a": {
          "model_module": "@jupyter-widgets/base",
          "model_name": "LayoutModel",
          "state": {
            "_view_name": "LayoutView",
            "grid_template_rows": null,
            "right": null,
            "justify_content": null,
            "_view_module": "@jupyter-widgets/base",
            "overflow": null,
            "_model_module_version": "1.2.0",
            "_view_count": null,
            "flex_flow": null,
            "width": null,
            "min_width": null,
            "border": null,
            "align_items": null,
            "bottom": null,
            "_model_module": "@jupyter-widgets/base",
            "top": null,
            "grid_column": null,
            "overflow_y": null,
            "overflow_x": null,
            "grid_auto_flow": null,
            "grid_area": null,
            "grid_template_columns": null,
            "flex": null,
            "_model_name": "LayoutModel",
            "justify_items": null,
            "grid_row": null,
            "max_height": null,
            "align_content": null,
            "visibility": null,
            "align_self": null,
            "height": null,
            "min_height": null,
            "padding": null,
            "grid_auto_rows": null,
            "grid_gap": null,
            "max_width": null,
            "order": null,
            "_view_module_version": "1.2.0",
            "grid_template_areas": null,
            "object_position": null,
            "object_fit": null,
            "grid_auto_columns": null,
            "margin": null,
            "display": null,
            "left": null
          }
        },
        "41746008d9ad4a30b06779db3c1d4f5c": {
          "model_module": "@jupyter-widgets/controls",
          "model_name": "FloatProgressModel",
          "state": {
            "_view_name": "ProgressView",
            "style": "IPY_MODEL_d7fbbe8432a649558bfacd8452029575",
            "_dom_classes": [],
            "description": "Downloading: 100%",
            "_model_name": "FloatProgressModel",
            "bar_style": "success",
            "max": 1042301,
            "_view_module": "@jupyter-widgets/controls",
            "_model_module_version": "1.5.0",
            "value": 1042301,
            "_view_count": null,
            "_view_module_version": "1.5.0",
            "orientation": "horizontal",
            "min": 0,
            "description_tooltip": null,
            "_model_module": "@jupyter-widgets/controls",
            "layout": "IPY_MODEL_e627788dff2f4592add34b8654cae45c"
          }
        },
        "cd8d47240edb469aa82dfab9c5f61501": {
          "model_module": "@jupyter-widgets/controls",
          "model_name": "HTMLModel",
          "state": {
            "_view_name": "HTMLView",
            "style": "IPY_MODEL_2aba993eeb47443fa09b10dfa714c2cb",
            "_dom_classes": [],
            "description": "",
            "_model_name": "HTMLModel",
            "placeholder": "​",
            "_view_module": "@jupyter-widgets/controls",
            "_model_module_version": "1.5.0",
            "value": " 1.04M/1.04M [00:47&lt;00:00, 22.1kB/s]",
            "_view_count": null,
            "_view_module_version": "1.5.0",
            "description_tooltip": null,
            "_model_module": "@jupyter-widgets/controls",
            "layout": "IPY_MODEL_1443e63c17c244ce805bb7a3b692ff6a"
          }
        },
        "d7fbbe8432a649558bfacd8452029575": {
          "model_module": "@jupyter-widgets/controls",
          "model_name": "ProgressStyleModel",
          "state": {
            "_view_name": "StyleView",
            "_model_name": "ProgressStyleModel",
            "description_width": "initial",
            "_view_module": "@jupyter-widgets/base",
            "_model_module_version": "1.5.0",
            "_view_count": null,
            "_view_module_version": "1.2.0",
            "bar_color": null,
            "_model_module": "@jupyter-widgets/controls"
          }
        },
        "e627788dff2f4592add34b8654cae45c": {
          "model_module": "@jupyter-widgets/base",
          "model_name": "LayoutModel",
          "state": {
            "_view_name": "LayoutView",
            "grid_template_rows": null,
            "right": null,
            "justify_content": null,
            "_view_module": "@jupyter-widgets/base",
            "overflow": null,
            "_model_module_version": "1.2.0",
            "_view_count": null,
            "flex_flow": null,
            "width": null,
            "min_width": null,
            "border": null,
            "align_items": null,
            "bottom": null,
            "_model_module": "@jupyter-widgets/base",
            "top": null,
            "grid_column": null,
            "overflow_y": null,
            "overflow_x": null,
            "grid_auto_flow": null,
            "grid_area": null,
            "grid_template_columns": null,
            "flex": null,
            "_model_name": "LayoutModel",
            "justify_items": null,
            "grid_row": null,
            "max_height": null,
            "align_content": null,
            "visibility": null,
            "align_self": null,
            "height": null,
            "min_height": null,
            "padding": null,
            "grid_auto_rows": null,
            "grid_gap": null,
            "max_width": null,
            "order": null,
            "_view_module_version": "1.2.0",
            "grid_template_areas": null,
            "object_position": null,
            "object_fit": null,
            "grid_auto_columns": null,
            "margin": null,
            "display": null,
            "left": null
          }
        },
        "2aba993eeb47443fa09b10dfa714c2cb": {
          "model_module": "@jupyter-widgets/controls",
          "model_name": "DescriptionStyleModel",
          "state": {
            "_view_name": "StyleView",
            "_model_name": "DescriptionStyleModel",
            "description_width": "",
            "_view_module": "@jupyter-widgets/base",
            "_model_module_version": "1.5.0",
            "_view_count": null,
            "_view_module_version": "1.2.0",
            "_model_module": "@jupyter-widgets/controls"
          }
        },
        "1443e63c17c244ce805bb7a3b692ff6a": {
          "model_module": "@jupyter-widgets/base",
          "model_name": "LayoutModel",
          "state": {
            "_view_name": "LayoutView",
            "grid_template_rows": null,
            "right": null,
            "justify_content": null,
            "_view_module": "@jupyter-widgets/base",
            "overflow": null,
            "_model_module_version": "1.2.0",
            "_view_count": null,
            "flex_flow": null,
            "width": null,
            "min_width": null,
            "border": null,
            "align_items": null,
            "bottom": null,
            "_model_module": "@jupyter-widgets/base",
            "top": null,
            "grid_column": null,
            "overflow_y": null,
            "overflow_x": null,
            "grid_auto_flow": null,
            "grid_area": null,
            "grid_template_columns": null,
            "flex": null,
            "_model_name": "LayoutModel",
            "justify_items": null,
            "grid_row": null,
            "max_height": null,
            "align_content": null,
            "visibility": null,
            "align_self": null,
            "height": null,
            "min_height": null,
            "padding": null,
            "grid_auto_rows": null,
            "grid_gap": null,
            "max_width": null,
            "order": null,
            "_view_module_version": "1.2.0",
            "grid_template_areas": null,
            "object_position": null,
            "object_fit": null,
            "grid_auto_columns": null,
            "margin": null,
            "display": null,
            "left": null
          }
        },
        "dc19d9d8e9bc44a3afff49d44e096bd7": {
          "model_module": "@jupyter-widgets/controls",
          "model_name": "HBoxModel",
          "state": {
            "_view_name": "HBoxView",
            "_dom_classes": [],
            "_model_name": "HBoxModel",
            "_view_module": "@jupyter-widgets/controls",
            "_model_module_version": "1.5.0",
            "_view_count": null,
            "_view_module_version": "1.5.0",
            "box_style": "",
            "layout": "IPY_MODEL_e206365fb90e4557894fcb31ad21fd65",
            "_model_module": "@jupyter-widgets/controls",
            "children": [
              "IPY_MODEL_5266aadcacdc4b229458a9b6c28a1736",
              "IPY_MODEL_bf6ee2f35433453bb5fcdf7a4a402d31"
            ]
          }
        },
        "e206365fb90e4557894fcb31ad21fd65": {
          "model_module": "@jupyter-widgets/base",
          "model_name": "LayoutModel",
          "state": {
            "_view_name": "LayoutView",
            "grid_template_rows": null,
            "right": null,
            "justify_content": null,
            "_view_module": "@jupyter-widgets/base",
            "overflow": null,
            "_model_module_version": "1.2.0",
            "_view_count": null,
            "flex_flow": null,
            "width": null,
            "min_width": null,
            "border": null,
            "align_items": null,
            "bottom": null,
            "_model_module": "@jupyter-widgets/base",
            "top": null,
            "grid_column": null,
            "overflow_y": null,
            "overflow_x": null,
            "grid_auto_flow": null,
            "grid_area": null,
            "grid_template_columns": null,
            "flex": null,
            "_model_name": "LayoutModel",
            "justify_items": null,
            "grid_row": null,
            "max_height": null,
            "align_content": null,
            "visibility": null,
            "align_self": null,
            "height": null,
            "min_height": null,
            "padding": null,
            "grid_auto_rows": null,
            "grid_gap": null,
            "max_width": null,
            "order": null,
            "_view_module_version": "1.2.0",
            "grid_template_areas": null,
            "object_position": null,
            "object_fit": null,
            "grid_auto_columns": null,
            "margin": null,
            "display": null,
            "left": null
          }
        },
        "5266aadcacdc4b229458a9b6c28a1736": {
          "model_module": "@jupyter-widgets/controls",
          "model_name": "FloatProgressModel",
          "state": {
            "_view_name": "ProgressView",
            "style": "IPY_MODEL_1c49875f7d2a43fe98354435e560b9b3",
            "_dom_classes": [],
            "description": "Downloading: 100%",
            "_model_name": "FloatProgressModel",
            "bar_style": "success",
            "max": 456318,
            "_view_module": "@jupyter-widgets/controls",
            "_model_module_version": "1.5.0",
            "value": 456318,
            "_view_count": null,
            "_view_module_version": "1.5.0",
            "orientation": "horizontal",
            "min": 0,
            "description_tooltip": null,
            "_model_module": "@jupyter-widgets/controls",
            "layout": "IPY_MODEL_ef80f783052d4de5a86636b6a5507265"
          }
        },
        "bf6ee2f35433453bb5fcdf7a4a402d31": {
          "model_module": "@jupyter-widgets/controls",
          "model_name": "HTMLModel",
          "state": {
            "_view_name": "HTMLView",
            "style": "IPY_MODEL_110736dedbb54bfcb8b33482a99d0f7c",
            "_dom_classes": [],
            "description": "",
            "_model_name": "HTMLModel",
            "placeholder": "​",
            "_view_module": "@jupyter-widgets/controls",
            "_model_module_version": "1.5.0",
            "value": " 456k/456k [00:00&lt;00:00, 1.19MB/s]",
            "_view_count": null,
            "_view_module_version": "1.5.0",
            "description_tooltip": null,
            "_model_module": "@jupyter-widgets/controls",
            "layout": "IPY_MODEL_db6d1a8230514e14a0bfb3ff49807467"
          }
        },
        "1c49875f7d2a43fe98354435e560b9b3": {
          "model_module": "@jupyter-widgets/controls",
          "model_name": "ProgressStyleModel",
          "state": {
            "_view_name": "StyleView",
            "_model_name": "ProgressStyleModel",
            "description_width": "initial",
            "_view_module": "@jupyter-widgets/base",
            "_model_module_version": "1.5.0",
            "_view_count": null,
            "_view_module_version": "1.2.0",
            "bar_color": null,
            "_model_module": "@jupyter-widgets/controls"
          }
        },
        "ef80f783052d4de5a86636b6a5507265": {
          "model_module": "@jupyter-widgets/base",
          "model_name": "LayoutModel",
          "state": {
            "_view_name": "LayoutView",
            "grid_template_rows": null,
            "right": null,
            "justify_content": null,
            "_view_module": "@jupyter-widgets/base",
            "overflow": null,
            "_model_module_version": "1.2.0",
            "_view_count": null,
            "flex_flow": null,
            "width": null,
            "min_width": null,
            "border": null,
            "align_items": null,
            "bottom": null,
            "_model_module": "@jupyter-widgets/base",
            "top": null,
            "grid_column": null,
            "overflow_y": null,
            "overflow_x": null,
            "grid_auto_flow": null,
            "grid_area": null,
            "grid_template_columns": null,
            "flex": null,
            "_model_name": "LayoutModel",
            "justify_items": null,
            "grid_row": null,
            "max_height": null,
            "align_content": null,
            "visibility": null,
            "align_self": null,
            "height": null,
            "min_height": null,
            "padding": null,
            "grid_auto_rows": null,
            "grid_gap": null,
            "max_width": null,
            "order": null,
            "_view_module_version": "1.2.0",
            "grid_template_areas": null,
            "object_position": null,
            "object_fit": null,
            "grid_auto_columns": null,
            "margin": null,
            "display": null,
            "left": null
          }
        },
        "110736dedbb54bfcb8b33482a99d0f7c": {
          "model_module": "@jupyter-widgets/controls",
          "model_name": "DescriptionStyleModel",
          "state": {
            "_view_name": "StyleView",
            "_model_name": "DescriptionStyleModel",
            "description_width": "",
            "_view_module": "@jupyter-widgets/base",
            "_model_module_version": "1.5.0",
            "_view_count": null,
            "_view_module_version": "1.2.0",
            "_model_module": "@jupyter-widgets/controls"
          }
        },
        "db6d1a8230514e14a0bfb3ff49807467": {
          "model_module": "@jupyter-widgets/base",
          "model_name": "LayoutModel",
          "state": {
            "_view_name": "LayoutView",
            "grid_template_rows": null,
            "right": null,
            "justify_content": null,
            "_view_module": "@jupyter-widgets/base",
            "overflow": null,
            "_model_module_version": "1.2.0",
            "_view_count": null,
            "flex_flow": null,
            "width": null,
            "min_width": null,
            "border": null,
            "align_items": null,
            "bottom": null,
            "_model_module": "@jupyter-widgets/base",
            "top": null,
            "grid_column": null,
            "overflow_y": null,
            "overflow_x": null,
            "grid_auto_flow": null,
            "grid_area": null,
            "grid_template_columns": null,
            "flex": null,
            "_model_name": "LayoutModel",
            "justify_items": null,
            "grid_row": null,
            "max_height": null,
            "align_content": null,
            "visibility": null,
            "align_self": null,
            "height": null,
            "min_height": null,
            "padding": null,
            "grid_auto_rows": null,
            "grid_gap": null,
            "max_width": null,
            "order": null,
            "_view_module_version": "1.2.0",
            "grid_template_areas": null,
            "object_position": null,
            "object_fit": null,
            "grid_auto_columns": null,
            "margin": null,
            "display": null,
            "left": null
          }
        },
        "bd766134c2e548c187ac5152eddf8f13": {
          "model_module": "@jupyter-widgets/controls",
          "model_name": "HBoxModel",
          "state": {
            "_view_name": "HBoxView",
            "_dom_classes": [],
            "_model_name": "HBoxModel",
            "_view_module": "@jupyter-widgets/controls",
            "_model_module_version": "1.5.0",
            "_view_count": null,
            "_view_module_version": "1.5.0",
            "box_style": "",
            "layout": "IPY_MODEL_4fa4526deae04502b7ed3508a88f3ac2",
            "_model_module": "@jupyter-widgets/controls",
            "children": [
              "IPY_MODEL_8a5d597a9c504b1aba01a975798a7de8",
              "IPY_MODEL_4128ecabcf284381b247b5010960d89b"
            ]
          }
        },
        "4fa4526deae04502b7ed3508a88f3ac2": {
          "model_module": "@jupyter-widgets/base",
          "model_name": "LayoutModel",
          "state": {
            "_view_name": "LayoutView",
            "grid_template_rows": null,
            "right": null,
            "justify_content": null,
            "_view_module": "@jupyter-widgets/base",
            "overflow": null,
            "_model_module_version": "1.2.0",
            "_view_count": null,
            "flex_flow": null,
            "width": null,
            "min_width": null,
            "border": null,
            "align_items": null,
            "bottom": null,
            "_model_module": "@jupyter-widgets/base",
            "top": null,
            "grid_column": null,
            "overflow_y": null,
            "overflow_x": null,
            "grid_auto_flow": null,
            "grid_area": null,
            "grid_template_columns": null,
            "flex": null,
            "_model_name": "LayoutModel",
            "justify_items": null,
            "grid_row": null,
            "max_height": null,
            "align_content": null,
            "visibility": null,
            "align_self": null,
            "height": null,
            "min_height": null,
            "padding": null,
            "grid_auto_rows": null,
            "grid_gap": null,
            "max_width": null,
            "order": null,
            "_view_module_version": "1.2.0",
            "grid_template_areas": null,
            "object_position": null,
            "object_fit": null,
            "grid_auto_columns": null,
            "margin": null,
            "display": null,
            "left": null
          }
        },
        "8a5d597a9c504b1aba01a975798a7de8": {
          "model_module": "@jupyter-widgets/controls",
          "model_name": "FloatProgressModel",
          "state": {
            "_view_name": "ProgressView",
            "style": "IPY_MODEL_2d296b8791894bddba83ed443f7956d4",
            "_dom_classes": [],
            "description": "Downloading: 100%",
            "_model_name": "FloatProgressModel",
            "bar_style": "success",
            "max": 1355256,
            "_view_module": "@jupyter-widgets/controls",
            "_model_module_version": "1.5.0",
            "value": 1355256,
            "_view_count": null,
            "_view_module_version": "1.5.0",
            "orientation": "horizontal",
            "min": 0,
            "description_tooltip": null,
            "_model_module": "@jupyter-widgets/controls",
            "layout": "IPY_MODEL_9edeb8fc7a5e450cae4c7c6aade5f2fc"
          }
        },
        "4128ecabcf284381b247b5010960d89b": {
          "model_module": "@jupyter-widgets/controls",
          "model_name": "HTMLModel",
          "state": {
            "_view_name": "HTMLView",
            "style": "IPY_MODEL_0a2bf453bf3149c0bef4e9ab2efedf47",
            "_dom_classes": [],
            "description": "",
            "_model_name": "HTMLModel",
            "placeholder": "​",
            "_view_module": "@jupyter-widgets/controls",
            "_model_module_version": "1.5.0",
            "value": " 1.36M/1.36M [00:46&lt;00:00, 29.2kB/s]",
            "_view_count": null,
            "_view_module_version": "1.5.0",
            "description_tooltip": null,
            "_model_module": "@jupyter-widgets/controls",
            "layout": "IPY_MODEL_6a004b421ab946cfa3857343a72a00f3"
          }
        },
        "2d296b8791894bddba83ed443f7956d4": {
          "model_module": "@jupyter-widgets/controls",
          "model_name": "ProgressStyleModel",
          "state": {
            "_view_name": "StyleView",
            "_model_name": "ProgressStyleModel",
            "description_width": "initial",
            "_view_module": "@jupyter-widgets/base",
            "_model_module_version": "1.5.0",
            "_view_count": null,
            "_view_module_version": "1.2.0",
            "bar_color": null,
            "_model_module": "@jupyter-widgets/controls"
          }
        },
        "9edeb8fc7a5e450cae4c7c6aade5f2fc": {
          "model_module": "@jupyter-widgets/base",
          "model_name": "LayoutModel",
          "state": {
            "_view_name": "LayoutView",
            "grid_template_rows": null,
            "right": null,
            "justify_content": null,
            "_view_module": "@jupyter-widgets/base",
            "overflow": null,
            "_model_module_version": "1.2.0",
            "_view_count": null,
            "flex_flow": null,
            "width": null,
            "min_width": null,
            "border": null,
            "align_items": null,
            "bottom": null,
            "_model_module": "@jupyter-widgets/base",
            "top": null,
            "grid_column": null,
            "overflow_y": null,
            "overflow_x": null,
            "grid_auto_flow": null,
            "grid_area": null,
            "grid_template_columns": null,
            "flex": null,
            "_model_name": "LayoutModel",
            "justify_items": null,
            "grid_row": null,
            "max_height": null,
            "align_content": null,
            "visibility": null,
            "align_self": null,
            "height": null,
            "min_height": null,
            "padding": null,
            "grid_auto_rows": null,
            "grid_gap": null,
            "max_width": null,
            "order": null,
            "_view_module_version": "1.2.0",
            "grid_template_areas": null,
            "object_position": null,
            "object_fit": null,
            "grid_auto_columns": null,
            "margin": null,
            "display": null,
            "left": null
          }
        },
        "0a2bf453bf3149c0bef4e9ab2efedf47": {
          "model_module": "@jupyter-widgets/controls",
          "model_name": "DescriptionStyleModel",
          "state": {
            "_view_name": "StyleView",
            "_model_name": "DescriptionStyleModel",
            "description_width": "",
            "_view_module": "@jupyter-widgets/base",
            "_model_module_version": "1.5.0",
            "_view_count": null,
            "_view_module_version": "1.2.0",
            "_model_module": "@jupyter-widgets/controls"
          }
        },
        "6a004b421ab946cfa3857343a72a00f3": {
          "model_module": "@jupyter-widgets/base",
          "model_name": "LayoutModel",
          "state": {
            "_view_name": "LayoutView",
            "grid_template_rows": null,
            "right": null,
            "justify_content": null,
            "_view_module": "@jupyter-widgets/base",
            "overflow": null,
            "_model_module_version": "1.2.0",
            "_view_count": null,
            "flex_flow": null,
            "width": null,
            "min_width": null,
            "border": null,
            "align_items": null,
            "bottom": null,
            "_model_module": "@jupyter-widgets/base",
            "top": null,
            "grid_column": null,
            "overflow_y": null,
            "overflow_x": null,
            "grid_auto_flow": null,
            "grid_area": null,
            "grid_template_columns": null,
            "flex": null,
            "_model_name": "LayoutModel",
            "justify_items": null,
            "grid_row": null,
            "max_height": null,
            "align_content": null,
            "visibility": null,
            "align_self": null,
            "height": null,
            "min_height": null,
            "padding": null,
            "grid_auto_rows": null,
            "grid_gap": null,
            "max_width": null,
            "order": null,
            "_view_module_version": "1.2.0",
            "grid_template_areas": null,
            "object_position": null,
            "object_fit": null,
            "grid_auto_columns": null,
            "margin": null,
            "display": null,
            "left": null
          }
        }
      }
    }
  },
  "cells": [
    {
      "cell_type": "markdown",
      "metadata": {
        "id": "58d-T-FkedWw"
      },
      "source": [
        "# Preprocessing"
      ]
    },
    {
      "cell_type": "markdown",
      "metadata": {
        "id": "3bUsTaOGexZm"
      },
      "source": [
        "# 0. Imports"
      ]
    },
    {
      "cell_type": "code",
      "metadata": {
        "colab": {
          "base_uri": "https://localhost:8080/"
        },
        "id": "OYRZJseofBuh",
        "outputId": "f40b5947-3064-4518-c1b2-10c2619f034e"
      },
      "source": [
        "from google.colab import drive\n",
        "drive.mount('/content/gdrive')"
      ],
      "execution_count": 1,
      "outputs": [
        {
          "output_type": "stream",
          "text": [
            "Mounted at /content/gdrive\n"
          ],
          "name": "stdout"
        }
      ]
    },
    {
      "cell_type": "code",
      "metadata": {
        "id": "gcEdER7UexAo"
      },
      "source": [
        "import numpy as np\n",
        "import pandas as pd"
      ],
      "execution_count": 2,
      "outputs": []
    },
    {
      "cell_type": "markdown",
      "metadata": {
        "id": "sxQMMgOmejrl"
      },
      "source": [
        "## 1. Original dataset preprocessing"
      ]
    },
    {
      "cell_type": "markdown",
      "metadata": {
        "id": "f_y99_bgeo_I"
      },
      "source": [
        "### 1.1. Loading data"
      ]
    },
    {
      "cell_type": "code",
      "metadata": {
        "id": "PqrS6ch2ecOQ"
      },
      "source": [
        "X_plain_train = pd.read_csv('/content/gdrive/MyDrive/git/data/Training/subtaskA_data_all.csv', index_col=0)\n",
        "X_plain_dev   = pd.read_csv('/content/gdrive/MyDrive/git/data/Dev/subtaskA_dev_data.csv'     , index_col=0)\n",
        "X_plain_test  = pd.read_csv('/content/gdrive/MyDrive/git/data/Test/subtaskA_test_data.csv'   , index_col=0)\n",
        "\n",
        "y_plain_train = pd.read_csv('/content/gdrive/MyDrive/git/data/Training/subtaskA_answers_all.csv', index_col=0, header=None)\n",
        "y_plain_dev   = pd.read_csv('/content/gdrive/MyDrive/git/data/Dev/subtaskA_gold_answers.csv'    , index_col=0, header=None)\n",
        "y_plain_test  = pd.read_csv('/content/gdrive/MyDrive/git/data/Test/subtaskA_gold_answers.csv'   , index_col=0, header=None)"
      ],
      "execution_count": 3,
      "outputs": []
    },
    {
      "cell_type": "markdown",
      "metadata": {
        "id": "WR2E7RKEfq36"
      },
      "source": [
        "### 1.2. Add the label column"
      ]
    },
    {
      "cell_type": "code",
      "metadata": {
        "id": "JJyCUKbBfqnK"
      },
      "source": [
        "X_plain_train['label'] = y_plain_train"
      ],
      "execution_count": 8,
      "outputs": []
    },
    {
      "cell_type": "markdown",
      "metadata": {
        "id": "viruO_KWn--N"
      },
      "source": [
        "### 1.3. Swap 0 labelled pairs\n",
        "This is important because we want the sensical and nonsensical sentences to be in their respective columns. In this case the sensical sentence will be sent0."
      ]
    },
    {
      "cell_type": "code",
      "metadata": {
        "id": "FAUnkOp4kQ4I"
      },
      "source": [
        "X_plain_train['sent0'], X_plain_train['sent1'] = np.where(X_plain_train['label'] == 0, (X_plain_train['sent1'], X_plain_train['sent0']),\n",
        "                                                 (X_plain_train['sent0'], X_plain_train['sent1']))"
      ],
      "execution_count": 14,
      "outputs": []
    },
    {
      "cell_type": "markdown",
      "metadata": {
        "id": "OWaQTXS6DZse"
      },
      "source": [
        "### 1.4. Add columns corresponding to lowercase sentences with no punctuation"
      ]
    },
    {
      "cell_type": "code",
      "metadata": {
        "id": "ZPZ-Z76hDZ_A"
      },
      "source": [
        "X_plain_train['lower_nopunct0'] = X_plain_train['sent0'].str.lower().replace('[^\\w\\s]', '', regex=True)\n",
        "X_plain_train['lower_nopunct1'] = X_plain_train['sent1'].str.lower().replace('[^\\w\\s]', '', regex=True)"
      ],
      "execution_count": 70,
      "outputs": []
    },
    {
      "cell_type": "code",
      "metadata": {
        "colab": {
          "base_uri": "https://localhost:8080/",
          "height": 524
        },
        "id": "5LLd9R4TQT4n",
        "outputId": "37aa7935-662e-44b1-c796-45d0e0aead52"
      },
      "source": [
        "X_plain_train"
      ],
      "execution_count": 75,
      "outputs": [
        {
          "output_type": "execute_result",
          "data": {
            "text/html": [
              "<div>\n",
              "<style scoped>\n",
              "    .dataframe tbody tr th:only-of-type {\n",
              "        vertical-align: middle;\n",
              "    }\n",
              "\n",
              "    .dataframe tbody tr th {\n",
              "        vertical-align: top;\n",
              "    }\n",
              "\n",
              "    .dataframe thead th {\n",
              "        text-align: right;\n",
              "    }\n",
              "</style>\n",
              "<table border=\"1\" class=\"dataframe\">\n",
              "  <thead>\n",
              "    <tr style=\"text-align: right;\">\n",
              "      <th></th>\n",
              "      <th>sent0</th>\n",
              "      <th>sent1</th>\n",
              "      <th>hr_sent0</th>\n",
              "      <th>hr_sent1</th>\n",
              "      <th>lower_nopunct0</th>\n",
              "      <th>label</th>\n",
              "      <th>lower_nopunct1</th>\n",
              "    </tr>\n",
              "    <tr>\n",
              "      <th>id</th>\n",
              "      <th></th>\n",
              "      <th></th>\n",
              "      <th></th>\n",
              "      <th></th>\n",
              "      <th></th>\n",
              "      <th></th>\n",
              "      <th></th>\n",
              "    </tr>\n",
              "  </thead>\n",
              "  <tbody>\n",
              "    <tr>\n",
              "      <th>0</th>\n",
              "      <td>He poured milk on his cereal.</td>\n",
              "      <td>He poured orange juice on his cereal.</td>\n",
              "      <td>He poured orange juice on his cereal.</td>\n",
              "      <td>He poured milk on his cereal.</td>\n",
              "      <td>he poured milk on his cereal</td>\n",
              "      <td>0</td>\n",
              "      <td>he poured orange juice on his cereal</td>\n",
              "    </tr>\n",
              "    <tr>\n",
              "      <th>1</th>\n",
              "      <td>He drinks milk.</td>\n",
              "      <td>He drinks apple.</td>\n",
              "      <td>He drinks apple.</td>\n",
              "      <td>He drinks milk.</td>\n",
              "      <td>he drinks milk</td>\n",
              "      <td>0</td>\n",
              "      <td>he drinks apple</td>\n",
              "    </tr>\n",
              "    <tr>\n",
              "      <th>2</th>\n",
              "      <td>Jeff ran a mile today</td>\n",
              "      <td>Jeff ran 100,000 miles today</td>\n",
              "      <td>Jeff ran a mile today</td>\n",
              "      <td>Jeff ran 100,000 miles today</td>\n",
              "      <td>jeff ran a mile today</td>\n",
              "      <td>1</td>\n",
              "      <td>jeff ran 100000 miles today</td>\n",
              "    </tr>\n",
              "    <tr>\n",
              "      <th>3</th>\n",
              "      <td>A mosquito stings me</td>\n",
              "      <td>I sting a mosquito</td>\n",
              "      <td>Mosquito bites me</td>\n",
              "      <td>I bite mosquito</td>\n",
              "      <td>a mosquito stings me</td>\n",
              "      <td>1</td>\n",
              "      <td>i sting a mosquito</td>\n",
              "    </tr>\n",
              "    <tr>\n",
              "      <th>4</th>\n",
              "      <td>A niece is a person.</td>\n",
              "      <td>A giraffe is a person.</td>\n",
              "      <td>Niece of the person.</td>\n",
              "      <td>Giraffe is a person.</td>\n",
              "      <td>a niece is a person</td>\n",
              "      <td>1</td>\n",
              "      <td>a giraffe is a person</td>\n",
              "    </tr>\n",
              "    <tr>\n",
              "      <th>...</th>\n",
              "      <td>...</td>\n",
              "      <td>...</td>\n",
              "      <td>...</td>\n",
              "      <td>...</td>\n",
              "      <td>...</td>\n",
              "      <td>...</td>\n",
              "      <td>...</td>\n",
              "    </tr>\n",
              "    <tr>\n",
              "      <th>9995</th>\n",
              "      <td>Mark ate a big sweet cherry pie</td>\n",
              "      <td>Mark ate a big bitter cherry pie</td>\n",
              "      <td>Mark has eaten a large bitter cherry pie</td>\n",
              "      <td>Mark ate large sweet cherry pie</td>\n",
              "      <td>mark ate a big sweet cherry pie</td>\n",
              "      <td>0</td>\n",
              "      <td>mark ate a big bitter cherry pie</td>\n",
              "    </tr>\n",
              "    <tr>\n",
              "      <th>9996</th>\n",
              "      <td>Gloria wears a hat on her head</td>\n",
              "      <td>Gloria wears a cat on her head</td>\n",
              "      <td>Gloria carries a cat on his head</td>\n",
              "      <td>Gloria wearing a hat on his head</td>\n",
              "      <td>gloria wears a hat on her head</td>\n",
              "      <td>0</td>\n",
              "      <td>gloria wears a cat on her head</td>\n",
              "    </tr>\n",
              "    <tr>\n",
              "      <th>9997</th>\n",
              "      <td>Harry went to the barbershop to have his hair cut</td>\n",
              "      <td>Harry went to the barbershop to have his glass...</td>\n",
              "      <td>Harry went to the barber shop to a hair cut</td>\n",
              "      <td>Harry went to the barber shop to fix his glasses</td>\n",
              "      <td>harry went to the barbershop to have his hair cut</td>\n",
              "      <td>1</td>\n",
              "      <td>harry went to the barbershop to have his glass...</td>\n",
              "    </tr>\n",
              "    <tr>\n",
              "      <th>9998</th>\n",
              "      <td>Reilly is sleeping on the couch</td>\n",
              "      <td>Reilly is sleeping on the window</td>\n",
              "      <td>Reilly is sleeping on the couch</td>\n",
              "      <td>Reilly sleeping on window</td>\n",
              "      <td>reilly is sleeping on the couch</td>\n",
              "      <td>1</td>\n",
              "      <td>reilly is sleeping on the window</td>\n",
              "    </tr>\n",
              "    <tr>\n",
              "      <th>9999</th>\n",
              "      <td>I have a lamp on my desk</td>\n",
              "      <td>I have a desk on my lamp</td>\n",
              "      <td>I have a table in my lamp</td>\n",
              "      <td>I have a lamp on my desk</td>\n",
              "      <td>i have a lamp on my desk</td>\n",
              "      <td>0</td>\n",
              "      <td>i have a desk on my lamp</td>\n",
              "    </tr>\n",
              "  </tbody>\n",
              "</table>\n",
              "<p>10000 rows × 7 columns</p>\n",
              "</div>"
            ],
            "text/plain": [
              "                                                  sent0  ...                                     lower_nopunct1\n",
              "id                                                       ...                                                   \n",
              "0                         He poured milk on his cereal.  ...               he poured orange juice on his cereal\n",
              "1                                       He drinks milk.  ...                                    he drinks apple\n",
              "2                                 Jeff ran a mile today  ...                        jeff ran 100000 miles today\n",
              "3                                  A mosquito stings me  ...                                 i sting a mosquito\n",
              "4                                  A niece is a person.  ...                              a giraffe is a person\n",
              "...                                                 ...  ...                                                ...\n",
              "9995                    Mark ate a big sweet cherry pie  ...                   mark ate a big bitter cherry pie\n",
              "9996                     Gloria wears a hat on her head  ...                     gloria wears a cat on her head\n",
              "9997  Harry went to the barbershop to have his hair cut  ...  harry went to the barbershop to have his glass...\n",
              "9998                    Reilly is sleeping on the couch  ...                   reilly is sleeping on the window\n",
              "9999                           I have a lamp on my desk  ...                           i have a desk on my lamp\n",
              "\n",
              "[10000 rows x 7 columns]"
            ]
          },
          "metadata": {
            "tags": []
          },
          "execution_count": 75
        }
      ]
    },
    {
      "cell_type": "markdown",
      "metadata": {
        "id": "DNHPc3zJobdd"
      },
      "source": [
        "## 2. Artificially generated dataset preprocessing"
      ]
    },
    {
      "cell_type": "markdown",
      "metadata": {
        "id": "GNPRyZCFokxK"
      },
      "source": [
        "### 2.1. Load data"
      ]
    },
    {
      "cell_type": "code",
      "metadata": {
        "id": "IhXrm2qWosgn"
      },
      "source": [
        "X_aug_train = pd.read_csv('/content/gdrive/MyDrive/git/data/Training/GPT2_subtaskA_data.csv', index_col=0)\n",
        "X_aug_dev   = pd.read_csv('/content/gdrive/MyDrive/git/data/Dev/subtaskA_dev_data.csv'     , index_col=0)\n",
        "X_aug_test  = pd.read_csv('/content/gdrive/MyDrive/git/data/Test/subtaskA_test_data.csv'   , index_col=0)\n",
        "\n",
        "y_aug_train = pd.read_csv('/content/gdrive/MyDrive/git/data/Training/GPT2_answers.csv', index_col=0, header=None)\n",
        "y_aug_dev   = pd.read_csv('/content/gdrive/MyDrive/git/data/Dev/subtaskA_gold_answers.csv'    , index_col=0, header=None)\n",
        "y_aug_test  = pd.read_csv('/content/gdrive/MyDrive/git/data/Test/subtaskA_gold_answers.csv'   , index_col=0, header=None)"
      ],
      "execution_count": 15,
      "outputs": []
    },
    {
      "cell_type": "code",
      "metadata": {
        "id": "9hMUzs9MAkRI"
      },
      "source": [
        "scores1 = pd.read_csv('scores1_gmean.csv', header=None, index_col=0)\n",
        "scores2 = pd.read_csv('scores2_gmean.csv', header=None, index_col=0)"
      ],
      "execution_count": 167,
      "outputs": []
    },
    {
      "cell_type": "markdown",
      "metadata": {
        "id": "_zitmAYXLKKV"
      },
      "source": [
        "### 2.3. Add label column"
      ]
    },
    {
      "cell_type": "code",
      "metadata": {
        "id": "DYZiW-PDLODD"
      },
      "source": [
        "X_aug_train['label'] = y_aug_train"
      ],
      "execution_count": 34,
      "outputs": []
    },
    {
      "cell_type": "markdown",
      "metadata": {
        "id": "_3CXA3l6Rw4u"
      },
      "source": [
        "### 2.4. Swap 0 labelled pairs"
      ]
    },
    {
      "cell_type": "code",
      "metadata": {
        "id": "uZTf0gNeRwaG"
      },
      "source": [
        "X_aug_train['sent0'], X_aug_train['sent1'] = np.where(X_aug_train['label'] == 0, (X_aug_train['sent1'], X_aug_train['sent0']),\n",
        "                                                 (X_aug_train['sent0'], X_aug_train['sent1']))"
      ],
      "execution_count": 38,
      "outputs": []
    },
    {
      "cell_type": "markdown",
      "metadata": {
        "id": "cP16Pq1N7x0h"
      },
      "source": [
        "### 2.5. Auxiliary columns"
      ]
    },
    {
      "cell_type": "code",
      "metadata": {
        "id": "4YBJJ4xUetTJ"
      },
      "source": [
        "X_aug_train['lower_nopunct0'] = X_aug_train['sent0'].str.lower().replace('[^\\w\\s]', '', regex=True)\n",
        "X_aug_train['lower_nopunct1'] = X_aug_train['sent1'].str.lower().replace('[^\\w\\s]', '', regex=True)\n",
        "scores1.index = X_aug_train.index\n",
        "scores2.index = X_aug_train.index\n",
        "X_aug_train['scores1'] = scores1\n",
        "X_aug_train['scores2'] = scores2"
      ],
      "execution_count": 168,
      "outputs": []
    },
    {
      "cell_type": "markdown",
      "metadata": {
        "id": "Tr5WAmuiAngR"
      },
      "source": [
        "### 2.6. Remove duplicates"
      ]
    },
    {
      "cell_type": "code",
      "metadata": {
        "id": "Ezz1-dcRjD7w"
      },
      "source": [
        "a = pd.concat([X_plain_train, X_aug_train])\n",
        "a = a.drop_duplicates(['lower_nopunct0', 'lower_nopunct1'], keep=False)\n",
        "a = a[~a['scores1'].isna()]\n",
        "a.pop('hr_sent0')\n",
        "a.pop('hr_sent1')"
      ],
      "execution_count": null,
      "outputs": []
    },
    {
      "cell_type": "markdown",
      "metadata": {
        "id": "VCXvE0YmCaav"
      },
      "source": [
        "### 2.7. Remove entries with more than one sentence"
      ]
    },
    {
      "cell_type": "code",
      "metadata": {
        "id": "5SdI2Z8DOaPK"
      },
      "source": [
        "a = a[~a['sent0'].str.contains('.*\\..*.', regex=True)]\n",
        "a = a[~a['sent1'].str.contains('.*\\..*.', regex=True)]"
      ],
      "execution_count": 171,
      "outputs": []
    },
    {
      "cell_type": "markdown",
      "metadata": {
        "id": "YlVnOdc3O6kK"
      },
      "source": [
        "### 2.8. Remove similar sentence pairs"
      ]
    },
    {
      "cell_type": "code",
      "metadata": {
        "id": "9GTUo8gKCmmX"
      },
      "source": [
        "a = a[~(a['lower_nopunct0'] == a['lower_nopunct1'])]"
      ],
      "execution_count": 172,
      "outputs": []
    },
    {
      "cell_type": "markdown",
      "metadata": {
        "id": "uocLVPaMT_Nl"
      },
      "source": [
        "### 2.9. Remove short sentences"
      ]
    },
    {
      "cell_type": "code",
      "metadata": {
        "colab": {
          "base_uri": "https://localhost:8080/",
          "height": 733,
          "referenced_widgets": [
            "e154a2ceabe44e5083fac8dba41796d5",
            "797e5c3206954a3faadcbaaed9889b2a",
            "41746008d9ad4a30b06779db3c1d4f5c",
            "cd8d47240edb469aa82dfab9c5f61501",
            "d7fbbe8432a649558bfacd8452029575",
            "e627788dff2f4592add34b8654cae45c",
            "2aba993eeb47443fa09b10dfa714c2cb",
            "1443e63c17c244ce805bb7a3b692ff6a",
            "dc19d9d8e9bc44a3afff49d44e096bd7",
            "e206365fb90e4557894fcb31ad21fd65",
            "5266aadcacdc4b229458a9b6c28a1736",
            "bf6ee2f35433453bb5fcdf7a4a402d31",
            "1c49875f7d2a43fe98354435e560b9b3",
            "ef80f783052d4de5a86636b6a5507265",
            "110736dedbb54bfcb8b33482a99d0f7c",
            "db6d1a8230514e14a0bfb3ff49807467",
            "bd766134c2e548c187ac5152eddf8f13",
            "4fa4526deae04502b7ed3508a88f3ac2",
            "8a5d597a9c504b1aba01a975798a7de8",
            "4128ecabcf284381b247b5010960d89b",
            "2d296b8791894bddba83ed443f7956d4",
            "9edeb8fc7a5e450cae4c7c6aade5f2fc",
            "0a2bf453bf3149c0bef4e9ab2efedf47",
            "6a004b421ab946cfa3857343a72a00f3"
          ]
        },
        "id": "xLBHh7otUUfl",
        "outputId": "f0025bfd-03cf-486e-b520-c2ae1406e4fa"
      },
      "source": [
        "!pip install transformers\n",
        "from transformers import GPT2TokenizerFast\n",
        "tokenizer = GPT2TokenizerFast.from_pretrained(\"gpt2-large\")"
      ],
      "execution_count": 95,
      "outputs": [
        {
          "output_type": "stream",
          "text": [
            "Collecting transformers\n",
            "\u001b[?25l  Downloading https://files.pythonhosted.org/packages/d5/43/cfe4ee779bbd6a678ac6a97c5a5cdeb03c35f9eaebbb9720b036680f9a2d/transformers-4.6.1-py3-none-any.whl (2.2MB)\n",
            "\u001b[K     |████████████████████████████████| 2.3MB 5.4MB/s \n",
            "\u001b[?25hRequirement already satisfied: numpy>=1.17 in /usr/local/lib/python3.7/dist-packages (from transformers) (1.19.5)\n",
            "Requirement already satisfied: filelock in /usr/local/lib/python3.7/dist-packages (from transformers) (3.0.12)\n",
            "Requirement already satisfied: regex!=2019.12.17 in /usr/local/lib/python3.7/dist-packages (from transformers) (2019.12.20)\n",
            "Collecting tokenizers<0.11,>=0.10.1\n",
            "\u001b[?25l  Downloading https://files.pythonhosted.org/packages/d4/e2/df3543e8ffdab68f5acc73f613de9c2b155ac47f162e725dcac87c521c11/tokenizers-0.10.3-cp37-cp37m-manylinux_2_5_x86_64.manylinux1_x86_64.manylinux_2_12_x86_64.manylinux2010_x86_64.whl (3.3MB)\n",
            "\u001b[K     |████████████████████████████████| 3.3MB 31.0MB/s \n",
            "\u001b[?25hRequirement already satisfied: requests in /usr/local/lib/python3.7/dist-packages (from transformers) (2.23.0)\n",
            "Collecting huggingface-hub==0.0.8\n",
            "  Downloading https://files.pythonhosted.org/packages/a1/88/7b1e45720ecf59c6c6737ff332f41c955963090a18e72acbcbeac6b25e86/huggingface_hub-0.0.8-py3-none-any.whl\n",
            "Requirement already satisfied: packaging in /usr/local/lib/python3.7/dist-packages (from transformers) (20.9)\n",
            "Collecting sacremoses\n",
            "\u001b[?25l  Downloading https://files.pythonhosted.org/packages/75/ee/67241dc87f266093c533a2d4d3d69438e57d7a90abb216fa076e7d475d4a/sacremoses-0.0.45-py3-none-any.whl (895kB)\n",
            "\u001b[K     |████████████████████████████████| 901kB 32.3MB/s \n",
            "\u001b[?25hRequirement already satisfied: tqdm>=4.27 in /usr/local/lib/python3.7/dist-packages (from transformers) (4.41.1)\n",
            "Requirement already satisfied: importlib-metadata; python_version < \"3.8\" in /usr/local/lib/python3.7/dist-packages (from transformers) (4.0.1)\n",
            "Requirement already satisfied: chardet<4,>=3.0.2 in /usr/local/lib/python3.7/dist-packages (from requests->transformers) (3.0.4)\n",
            "Requirement already satisfied: idna<3,>=2.5 in /usr/local/lib/python3.7/dist-packages (from requests->transformers) (2.10)\n",
            "Requirement already satisfied: urllib3!=1.25.0,!=1.25.1,<1.26,>=1.21.1 in /usr/local/lib/python3.7/dist-packages (from requests->transformers) (1.24.3)\n",
            "Requirement already satisfied: certifi>=2017.4.17 in /usr/local/lib/python3.7/dist-packages (from requests->transformers) (2020.12.5)\n",
            "Requirement already satisfied: pyparsing>=2.0.2 in /usr/local/lib/python3.7/dist-packages (from packaging->transformers) (2.4.7)\n",
            "Requirement already satisfied: joblib in /usr/local/lib/python3.7/dist-packages (from sacremoses->transformers) (1.0.1)\n",
            "Requirement already satisfied: six in /usr/local/lib/python3.7/dist-packages (from sacremoses->transformers) (1.15.0)\n",
            "Requirement already satisfied: click in /usr/local/lib/python3.7/dist-packages (from sacremoses->transformers) (7.1.2)\n",
            "Requirement already satisfied: zipp>=0.5 in /usr/local/lib/python3.7/dist-packages (from importlib-metadata; python_version < \"3.8\"->transformers) (3.4.1)\n",
            "Requirement already satisfied: typing-extensions>=3.6.4; python_version < \"3.8\" in /usr/local/lib/python3.7/dist-packages (from importlib-metadata; python_version < \"3.8\"->transformers) (3.7.4.3)\n",
            "Installing collected packages: tokenizers, huggingface-hub, sacremoses, transformers\n",
            "Successfully installed huggingface-hub-0.0.8 sacremoses-0.0.45 tokenizers-0.10.3 transformers-4.6.1\n"
          ],
          "name": "stdout"
        },
        {
          "output_type": "display_data",
          "data": {
            "application/vnd.jupyter.widget-view+json": {
              "model_id": "e154a2ceabe44e5083fac8dba41796d5",
              "version_minor": 0,
              "version_major": 2
            },
            "text/plain": [
              "HBox(children=(FloatProgress(value=0.0, description='Downloading', max=1042301.0, style=ProgressStyle(descript…"
            ]
          },
          "metadata": {
            "tags": []
          }
        },
        {
          "output_type": "stream",
          "text": [
            "\n"
          ],
          "name": "stdout"
        },
        {
          "output_type": "display_data",
          "data": {
            "application/vnd.jupyter.widget-view+json": {
              "model_id": "dc19d9d8e9bc44a3afff49d44e096bd7",
              "version_minor": 0,
              "version_major": 2
            },
            "text/plain": [
              "HBox(children=(FloatProgress(value=0.0, description='Downloading', max=456318.0, style=ProgressStyle(descripti…"
            ]
          },
          "metadata": {
            "tags": []
          }
        },
        {
          "output_type": "stream",
          "text": [
            "\n"
          ],
          "name": "stdout"
        },
        {
          "output_type": "display_data",
          "data": {
            "application/vnd.jupyter.widget-view+json": {
              "model_id": "bd766134c2e548c187ac5152eddf8f13",
              "version_minor": 0,
              "version_major": 2
            },
            "text/plain": [
              "HBox(children=(FloatProgress(value=0.0, description='Downloading', max=1355256.0, style=ProgressStyle(descript…"
            ]
          },
          "metadata": {
            "tags": []
          }
        },
        {
          "output_type": "stream",
          "text": [
            "\n"
          ],
          "name": "stdout"
        }
      ]
    },
    {
      "cell_type": "code",
      "metadata": {
        "id": "XfJmxsDiT8uD"
      },
      "source": [
        "a['length1'] = a['sent0'].apply(lambda x: len(tokenizer(x)['input_ids']))\n",
        "a['length2'] = a['sent1'].apply(lambda x: len(tokenizer(x)['input_ids']))"
      ],
      "execution_count": 173,
      "outputs": []
    },
    {
      "cell_type": "code",
      "metadata": {
        "id": "JNsZ08tPUiRx"
      },
      "source": [
        "a = a[a['length1'] >= 3]\n",
        "a = a[a['length2'] >= 3]"
      ],
      "execution_count": 174,
      "outputs": []
    },
    {
      "cell_type": "markdown",
      "metadata": {
        "id": "pOvwMp6VbZe7"
      },
      "source": [
        "### 2.10. Swap the labels back"
      ]
    },
    {
      "cell_type": "code",
      "metadata": {
        "id": "ImMG0-O8bb1s"
      },
      "source": [
        "a['sent0'], a['sent1'] = np.where(a['label'] == 0, (a['sent1'], a['sent0']),\n",
        "                                                 (a['sent0'], a['sent1']))"
      ],
      "execution_count": 177,
      "outputs": []
    },
    {
      "cell_type": "markdown",
      "metadata": {
        "id": "Q_0RigzMXYhF"
      },
      "source": [
        "### 2.11. Filter data based on score difference"
      ]
    },
    {
      "cell_type": "code",
      "metadata": {
        "id": "NoBXC9YxUmx7"
      },
      "source": [
        "a['diff'] = a['scores1'] - a['scores2']\n",
        "a['diff_log'] = np.log(a['scores1']) - np.log(a['scores2'])"
      ],
      "execution_count": 179,
      "outputs": []
    },
    {
      "cell_type": "code",
      "metadata": {
        "id": "VAukoruuVOxA"
      },
      "source": [
        "highest = a.nlargest(10000, 'diff')\n",
        "highest_log = a.nlargest(10000, 'diff_log')"
      ],
      "execution_count": 180,
      "outputs": []
    },
    {
      "cell_type": "markdown",
      "metadata": {
        "id": "HBjoEI9zqNWN"
      },
      "source": [
        "### 2.12. Save the data"
      ]
    },
    {
      "cell_type": "code",
      "metadata": {
        "colab": {
          "base_uri": "https://localhost:8080/"
        },
        "id": "pEYhf5TPqb1q",
        "outputId": "95ea0bb3-036d-4ae5-948e-34d0adb39e78"
      },
      "source": [
        "%cd /content/gdrive/MyDrive/git/data/Training"
      ],
      "execution_count": 188,
      "outputs": [
        {
          "output_type": "stream",
          "text": [
            "/content/gdrive/.shortcut-targets-by-id/1yfuNPQUT_G0CfNtdGxHhLi96giKyswbZ/git/data/Training\n"
          ],
          "name": "stdout"
        }
      ]
    },
    {
      "cell_type": "code",
      "metadata": {
        "id": "aroQQHiTdkpm"
      },
      "source": [
        "data = highest[['sent0', 'sent1']]\n",
        "answers = highest['label']\n",
        "data.to_csv('GPT2_data_final.csv')\n",
        "answers.to_csv('GPT2_answers_final.csv', header=None)"
      ],
      "execution_count": 189,
      "outputs": []
    },
    {
      "cell_type": "code",
      "metadata": {
        "id": "fKBuNQVKqMp-"
      },
      "source": [
        "data = highest_log[['sent0', 'sent1']]\n",
        "answers = highest_log['label']\n",
        "data.to_csv('GPT2_data_final_log.csv')\n",
        "answers.to_csv('GPT2_answers_final_log.csv', header=None)"
      ],
      "execution_count": 190,
      "outputs": []
    },
    {
      "cell_type": "code",
      "metadata": {
        "id": "ten1OHINioZG"
      },
      "source": [
        ""
      ],
      "execution_count": null,
      "outputs": []
    }
  ]
}