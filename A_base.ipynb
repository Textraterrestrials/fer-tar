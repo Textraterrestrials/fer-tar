{
 "nbformat": 4,
 "nbformat_minor": 0,
 "metadata": {
  "accelerator": "GPU",
  "colab": {
   "name": "A_base.ipynb",
   "provenance": [
    {
     "file_id": "1D6krVG0PPJR2Je9g5eN_2h6JP73_NUXz",
     "timestamp": 1616860165156
    },
    {
     "file_id": "1d_7axqPO6iSbI6joKb5EAFKV2rPmXt6X",
     "timestamp": 1616054665801
    }
   ],
   "collapsed_sections": [],
   "toc_visible": true,
   "machine_shape": "hm"
  },
  "kernelspec": {
   "display_name": "Python 3",
   "name": "python3"
  }
 },
 "cells": [
  {
   "cell_type": "markdown",
   "metadata": {
    "id": "qapkp_iVY2RZ"
   },
   "source": [
    "# SemEval-2020 Task 4: Commonsense Validation and Explanation"
   ]
  },
  {
   "cell_type": "markdown",
   "metadata": {
    "id": "Pn9QomWEYyy7"
   },
   "source": [
    "[![Open In Colab](https://colab.research.google.com/assets/colab-badge.svg)](https://colab.research.google.com/drive/1rlwPIErsvGcYYgM6s_FT9FDn9lcHzvVU?usp=sharing)"
   ]
  },
  {
   "cell_type": "markdown",
   "metadata": {
    "id": "GVbHNfPDYPue"
   },
   "source": [
    "# 0. Getting started"
   ]
  },
  {
   "cell_type": "code",
   "metadata": {
    "colab": {
     "base_uri": "https://localhost:8080/"
    },
    "id": "qCjHTPyX6b9z",
    "executionInfo": {
     "status": "ok",
     "timestamp": 1621097261761,
     "user_tz": -120,
     "elapsed": 556,
     "user": {
      "displayName": "Marko Čuljak",
      "photoUrl": "",
      "userId": "08271803314499472938"
     }
    },
    "outputId": "5da0308d-38c1-4c8b-8bfc-037512c311e3"
   },
   "source": [
    "print('adsfjdaksljfadfslj')"
   ],
   "execution_count": null,
   "outputs": [
    {
     "output_type": "stream",
     "text": [
      "adsfjdaksljfadfslj\n"
     ],
     "name": "stdout"
    }
   ]
  },
  {
   "cell_type": "code",
   "metadata": {
    "id": "FGhIPOzS6gdP"
   },
   "source": [
    ""
   ],
   "execution_count": null,
   "outputs": []
  },
  {
   "cell_type": "code",
   "metadata": {
    "colab": {
     "base_uri": "https://localhost:8080/"
    },
    "id": "wGooKJp6FNqM",
    "executionInfo": {
     "status": "ok",
     "timestamp": 1617872301603,
     "user_tz": -120,
     "elapsed": 2213,
     "user": {
      "displayName": "Marko Čuljak",
      "photoUrl": "",
      "userId": "08271803314499472938"
     }
    },
    "outputId": "45ae0c6c-1084-4daf-e149-f331471677e5"
   },
   "source": [
    "from google.colab import drive\n",
    "drive.mount('/content/gdrive')"
   ],
   "execution_count": null,
   "outputs": [
    {
     "output_type": "stream",
     "text": [
      "Drive already mounted at /content/gdrive; to attempt to forcibly remount, call drive.mount(\"/content/gdrive\", force_remount=True).\n"
     ],
     "name": "stdout"
    }
   ]
  },
  {
   "cell_type": "code",
   "metadata": {
    "colab": {
     "base_uri": "https://localhost:8080/"
    },
    "id": "f4TWi5mzFOBk",
    "executionInfo": {
     "status": "ok",
     "timestamp": 1617872301604,
     "user_tz": -120,
     "elapsed": 2206,
     "user": {
      "displayName": "Marko Čuljak",
      "photoUrl": "",
      "userId": "08271803314499472938"
     }
    },
    "outputId": "95341d92-fc67-43cd-c8e7-77aa611624c4"
   },
   "source": [
    "%cd /content/gdrive/MyDrive/git/fer-tar"
   ],
   "execution_count": null,
   "outputs": [
    {
     "output_type": "stream",
     "text": [
      "/content/gdrive/.shortcut-targets-by-id/1yfuNPQUT_G0CfNtdGxHhLi96giKyswbZ/git/fer-tar\n"
     ],
     "name": "stdout"
    }
   ]
  },
  {
   "cell_type": "markdown",
   "metadata": {
    "id": "Pg5Rf3l9GvF5"
   },
   "source": [
    "## 0.1. Imports"
   ]
  },
  {
   "cell_type": "code",
   "metadata": {
    "id": "_8pW-Ub1GuoO"
   },
   "source": [
    "import pandas as pd\n",
    "import numpy as np\n",
    "import torch\n",
    "import torch.nn as nn\n",
    "import torch.optim as optim\n",
    "import scripts.data as data\n",
    "from sklearn.feature_extraction.text import TfidfVectorizer, CountVectorizer\n",
    "from sklearn.linear_model import LogisticRegression\n",
    "from sklearn.metrics import accuracy_score\n"
   ],
   "execution_count": null,
   "outputs": []
  },
  {
   "cell_type": "markdown",
   "metadata": {
    "id": "VbeDRcvWfXyM"
   },
   "source": [
    "## 0.2. Getting the data"
   ]
  },
  {
   "cell_type": "code",
   "metadata": {
    "id": "pJbYXou6chZf"
   },
   "source": [
    "X_train, X_dev, X_test, y_train, y_dev, y_test = data.load_data()"
   ],
   "execution_count": null,
   "outputs": []
  },
  {
   "cell_type": "markdown",
   "metadata": {
    "id": "QqcAYrPamoUD"
   },
   "source": [
    "## 0.3. Preprocessing"
   ]
  },
  {
   "cell_type": "code",
   "metadata": {
    "id": "ohNYCKRwQdtT"
   },
   "source": [
    "X_ultimate_train, y_ultimate_train = data.melt_columns(X_train, y_train)\n",
    "X_ultimate_dev, y_ultimate_dev = data.melt_columns(X_dev, y_dev)\n",
    "X_ultimate_test, y_ultimate_test = data.melt_columns(X_test, y_test)"
   ],
   "execution_count": null,
   "outputs": []
  },
  {
   "cell_type": "code",
   "metadata": {
    "id": "0-lsU7dzbUt5"
   },
   "source": [
    "vec = TfidfVectorizer(ngram_range=(1, 3), lowercase=True)\n",
    "vec.fit(X_ultimate_train)\n",
    "X_tfidf_train = vec.transform(X_ultimate_train)\n",
    "X_tfidf_test = vec.transform(X_ultimate_test)"
   ],
   "execution_count": null,
   "outputs": []
  },
  {
   "cell_type": "markdown",
   "metadata": {
    "id": "u42d-3emYbco"
   },
   "source": [
    "# 1. Baseline"
   ]
  },
  {
   "cell_type": "code",
   "metadata": {
    "colab": {
     "base_uri": "https://localhost:8080/"
    },
    "id": "NINK_3LVebtO",
    "executionInfo": {
     "status": "ok",
     "timestamp": 1617872322884,
     "user_tz": -120,
     "elapsed": 1072,
     "user": {
      "displayName": "Marko Čuljak",
      "photoUrl": "",
      "userId": "08271803314499472938"
     }
    },
    "outputId": "66c7bcba-a7c0-4050-e093-746f09cf17a3"
   },
   "source": [
    "clf = LogisticRegression(C=0.02)\n",
    "clf.fit(X_tfidf_train, y_ultimate_train)"
   ],
   "execution_count": null,
   "outputs": [
    {
     "output_type": "stream",
     "text": [
      "/usr/local/lib/python3.7/dist-packages/sklearn/utils/validation.py:760: DataConversionWarning: A column-vector y was passed when a 1d array was expected. Please change the shape of y to (n_samples, ), for example using ravel().\n",
      "  y = column_or_1d(y, warn=True)\n"
     ],
     "name": "stderr"
    },
    {
     "output_type": "execute_result",
     "data": {
      "text/plain": [
       "LogisticRegression(C=0.02, class_weight=None, dual=False, fit_intercept=True,\n",
       "                   intercept_scaling=1, l1_ratio=None, max_iter=100,\n",
       "                   multi_class='auto', n_jobs=None, penalty='l2',\n",
       "                   random_state=None, solver='lbfgs', tol=0.0001, verbose=0,\n",
       "                   warm_start=False)"
      ]
     },
     "metadata": {
      "tags": []
     },
     "execution_count": 12
    }
   ]
  },
  {
   "cell_type": "code",
   "metadata": {
    "colab": {
     "base_uri": "https://localhost:8080/"
    },
    "id": "xZZwitjLfw2G",
    "executionInfo": {
     "status": "ok",
     "timestamp": 1617872324135,
     "user_tz": -120,
     "elapsed": 2103,
     "user": {
      "displayName": "Marko Čuljak",
      "photoUrl": "",
      "userId": "08271803314499472938"
     }
    },
    "outputId": "5e50b49a-929b-4bad-9f1b-ce4a4943ffd0"
   },
   "source": [
    "sent0_preds = clf.predict_proba(vec.transform(X_test['sent0']))[:, 0]\n",
    "sent1_preds = clf.predict_proba(vec.transform(X_test['sent1']))[:, 0]\n",
    "accuracy_score(y_test, sent0_preds > sent1_preds)"
   ],
   "execution_count": null,
   "outputs": [
    {
     "output_type": "execute_result",
     "data": {
      "text/plain": [
       "0.655"
      ]
     },
     "metadata": {
      "tags": []
     },
     "execution_count": 13
    }
   ]
  },
  {
   "cell_type": "code",
   "metadata": {
    "id": "tuOz0QeGQymm"
   },
   "source": [
    "def spy_sparse2torch_sparse(data):\n",
    "    \"\"\"\n",
    "\n",
    "    :param data: a scipy sparse csr matrix\n",
    "    :return: a sparse torch tensor\n",
    "    \"\"\"\n",
    "    samples=data.shape[0]\n",
    "    features=data.shape[1]\n",
    "    values=data.data\n",
    "    coo_data=data.tocoo()\n",
    "    indices=torch.LongTensor([coo_data.row,coo_data.col])\n",
    "    t=torch.sparse.FloatTensor(indices,torch.from_numpy(values).float(),[samples,features])\n",
    "    return t"
   ],
   "execution_count": null,
   "outputs": []
  },
  {
   "cell_type": "code",
   "metadata": {
    "id": "FldZRgZbRQC3"
   },
   "source": [
    "s0 = vec.transform(X_train['sent0'])\n",
    "s1 = vec.transform(X_train['sent1'])\n",
    "s0 = spy_sparse2torch_sparse(s0)\n",
    "s1 = spy_sparse2torch_sparse(s1)\n",
    "\n",
    "s0_test = vec.transform(X_test['sent0'])\n",
    "s1_test = vec.transform(X_test['sent1'])\n",
    "s0_test = spy_sparse2torch_sparse(s0_test)\n",
    "s1_test = spy_sparse2torch_sparse(s1_test)\n",
    "\n",
    "vec_size = s0.shape[1]"
   ],
   "execution_count": null,
   "outputs": []
  },
  {
   "cell_type": "code",
   "metadata": {
    "id": "F_1uX0KavtnA"
   },
   "source": [
    "class PairwiseLogisticRegression(nn.Module):\n",
    "    def __init__(self, in_p):\n",
    "        super().__init__()\n",
    "        self.vec_size = in_p\n",
    "        self.linear1 = nn.Linear(in_p, 1)\n",
    "        self.linear2 = nn.Linear(in_p, 1)\n",
    "        self.linear3 = nn.Linear(2, 1)\n",
    "        self.loss_f = nn.CrossEntropyLoss()\n",
    "\n",
    "    def forward(self, X1, X2):\n",
    "        p0 = nn.LeakyReLU(0.1)(self.linear1(X1)).reshape(-1, 1)\n",
    "        p1 = nn.LeakyReLU(0.01)(self.linear2(X2)).reshape(-1 ,1)\n",
    "        p = nn.Sigmoid()(self.linear3(torch.cat((p0, p1), dim=1)))\n",
    "        return p\n",
    "\n",
    "    def predict(self, X1, X2):\n",
    "        p = self.forward(X1, X2)\n",
    "        return p > 0.5\n",
    "\n",
    "    def loss(self, X1, X2, y):\n",
    "        p = self.forward(X1, X2)\n",
    "        return - torch.sum(y * torch.log(p + 1e-13) + (1 - y) * torch.log(1 - p + 1e-13))"
   ],
   "execution_count": null,
   "outputs": []
  },
  {
   "cell_type": "code",
   "metadata": {
    "id": "Fan3OiuCMR_H"
   },
   "source": [
    "model = PairwiseLogisticRegression(vec_size)"
   ],
   "execution_count": null,
   "outputs": []
  },
  {
   "cell_type": "code",
   "metadata": {
    "colab": {
     "base_uri": "https://localhost:8080/"
    },
    "id": "R1KNGUHSMufl",
    "executionInfo": {
     "status": "ok",
     "timestamp": 1617872665019,
     "user_tz": -120,
     "elapsed": 26115,
     "user": {
      "displayName": "Marko Čuljak",
      "photoUrl": "",
      "userId": "08271803314499472938"
     }
    },
    "outputId": "cbfac844-02ac-47e2-bba2-ec3532b06509"
   },
   "source": [
    "opt = optim.Adam(model.parameters(), lr = 0.1, weight_decay=0.5)\n",
    "y_tensor = torch.tensor(y_train.values)\n",
    "for i in range(400):\n",
    "    loss = model.loss(torch.cat((s0, s1)), torch.cat((s1, s0)), torch.cat((y_tensor, 1 - y_tensor)))\n",
    "    loss.backward()\n",
    "    if i % 20 == 0:\n",
    "        print(loss)\n",
    "    opt.step()\n",
    "    opt.zero_grad()\n"
   ],
   "execution_count": null,
   "outputs": [
    {
     "output_type": "stream",
     "text": [
      "tensor(1206.9274, grad_fn=<NegBackward>)\n",
      "tensor(604.5444, grad_fn=<NegBackward>)\n",
      "tensor(643.7679, grad_fn=<NegBackward>)\n",
      "tensor(546.4450, grad_fn=<NegBackward>)\n",
      "tensor(516.6306, grad_fn=<NegBackward>)\n",
      "tensor(494.0226, grad_fn=<NegBackward>)\n",
      "tensor(478.1906, grad_fn=<NegBackward>)\n",
      "tensor(465.5270, grad_fn=<NegBackward>)\n",
      "tensor(454.6223, grad_fn=<NegBackward>)\n",
      "tensor(445.7906, grad_fn=<NegBackward>)\n",
      "tensor(417.1361, grad_fn=<NegBackward>)\n",
      "tensor(400.9794, grad_fn=<NegBackward>)\n",
      "tensor(498.0103, grad_fn=<NegBackward>)\n",
      "tensor(378.3919, grad_fn=<NegBackward>)\n",
      "tensor(375.1275, grad_fn=<NegBackward>)\n",
      "tensor(375.6886, grad_fn=<NegBackward>)\n",
      "tensor(384.2704, grad_fn=<NegBackward>)\n",
      "tensor(340.1692, grad_fn=<NegBackward>)\n",
      "tensor(361.3019, grad_fn=<NegBackward>)\n",
      "tensor(429.7474, grad_fn=<NegBackward>)\n"
     ],
     "name": "stdout"
    }
   ]
  },
  {
   "cell_type": "code",
   "metadata": {
    "colab": {
     "base_uri": "https://localhost:8080/"
    },
    "id": "5cYTEdnBu8si",
    "executionInfo": {
     "status": "ok",
     "timestamp": 1617872810370,
     "user_tz": -120,
     "elapsed": 4942,
     "user": {
      "displayName": "Marko Čuljak",
      "photoUrl": "",
      "userId": "08271803314499472938"
     }
    },
    "outputId": "18153083-9a5e-4699-bc5f-12343cefca41"
   },
   "source": [
    "!pip install nlpaug"
   ],
   "execution_count": null,
   "outputs": [
    {
     "output_type": "stream",
     "text": [
      "Collecting nlpaug\n",
      "\u001B[?25l  Downloading https://files.pythonhosted.org/packages/eb/f8/b11caecdd19aa2b1b2cb46c6cbbec692abd621aad884e653e459a8546add/nlpaug-1.1.3-py3-none-any.whl (394kB)\n",
      "\r\u001B[K     |▉                               | 10kB 18.5MB/s eta 0:00:01\r\u001B[K     |█▋                              | 20kB 9.6MB/s eta 0:00:01\r\u001B[K     |██▌                             | 30kB 7.7MB/s eta 0:00:01\r\u001B[K     |███▎                            | 40kB 6.8MB/s eta 0:00:01\r\u001B[K     |████▏                           | 51kB 4.0MB/s eta 0:00:01\r\u001B[K     |█████                           | 61kB 4.5MB/s eta 0:00:01\r\u001B[K     |█████▉                          | 71kB 4.7MB/s eta 0:00:01\r\u001B[K     |██████▋                         | 81kB 4.9MB/s eta 0:00:01\r\u001B[K     |███████▌                        | 92kB 5.1MB/s eta 0:00:01\r\u001B[K     |████████▎                       | 102kB 5.3MB/s eta 0:00:01\r\u001B[K     |█████████▏                      | 112kB 5.3MB/s eta 0:00:01\r\u001B[K     |██████████                      | 122kB 5.3MB/s eta 0:00:01\r\u001B[K     |██████████▉                     | 133kB 5.3MB/s eta 0:00:01\r\u001B[K     |███████████▋                    | 143kB 5.3MB/s eta 0:00:01\r\u001B[K     |████████████▌                   | 153kB 5.3MB/s eta 0:00:01\r\u001B[K     |█████████████▎                  | 163kB 5.3MB/s eta 0:00:01\r\u001B[K     |██████████████▏                 | 174kB 5.3MB/s eta 0:00:01\r\u001B[K     |███████████████                 | 184kB 5.3MB/s eta 0:00:01\r\u001B[K     |███████████████▉                | 194kB 5.3MB/s eta 0:00:01\r\u001B[K     |████████████████▋               | 204kB 5.3MB/s eta 0:00:01\r\u001B[K     |█████████████████▌              | 215kB 5.3MB/s eta 0:00:01\r\u001B[K     |██████████████████▎             | 225kB 5.3MB/s eta 0:00:01\r\u001B[K     |███████████████████▏            | 235kB 5.3MB/s eta 0:00:01\r\u001B[K     |████████████████████            | 245kB 5.3MB/s eta 0:00:01\r\u001B[K     |████████████████████▉           | 256kB 5.3MB/s eta 0:00:01\r\u001B[K     |█████████████████████▋          | 266kB 5.3MB/s eta 0:00:01\r\u001B[K     |██████████████████████▌         | 276kB 5.3MB/s eta 0:00:01\r\u001B[K     |███████████████████████▎        | 286kB 5.3MB/s eta 0:00:01\r\u001B[K     |████████████████████████        | 296kB 5.3MB/s eta 0:00:01\r\u001B[K     |█████████████████████████       | 307kB 5.3MB/s eta 0:00:01\r\u001B[K     |█████████████████████████▊      | 317kB 5.3MB/s eta 0:00:01\r\u001B[K     |██████████████████████████▋     | 327kB 5.3MB/s eta 0:00:01\r\u001B[K     |███████████████████████████▍    | 337kB 5.3MB/s eta 0:00:01\r\u001B[K     |████████████████████████████▎   | 348kB 5.3MB/s eta 0:00:01\r\u001B[K     |█████████████████████████████   | 358kB 5.3MB/s eta 0:00:01\r\u001B[K     |██████████████████████████████  | 368kB 5.3MB/s eta 0:00:01\r\u001B[K     |██████████████████████████████▊ | 378kB 5.3MB/s eta 0:00:01\r\u001B[K     |███████████████████████████████▋| 389kB 5.3MB/s eta 0:00:01\r\u001B[K     |████████████████████████████████| 399kB 5.3MB/s \n",
      "\u001B[?25hInstalling collected packages: nlpaug\n",
      "Successfully installed nlpaug-1.1.3\n"
     ],
     "name": "stdout"
    }
   ]
  },
  {
   "cell_type": "code",
   "metadata": {
    "id": "k7Kvxby6MwY8"
   },
   "source": [
    "import nlpaug.augmenter.char as nac\n",
    "import nlpaug.augmenter.word as naw\n",
    "import nlpaug.augmenter.sentence as nas\n",
    "import nlpaug.flow as nafc\n",
    "\n",
    "from nlpaug.util import Action"
   ],
   "execution_count": null,
   "outputs": []
  },
  {
   "cell_type": "code",
   "metadata": {
    "id": "oEFBM5BUn22O",
    "colab": {
     "base_uri": "https://localhost:8080/",
     "height": 35
    },
    "executionInfo": {
     "status": "ok",
     "timestamp": 1617873282877,
     "user_tz": -120,
     "elapsed": 15452,
     "user": {
      "displayName": "Marko Čuljak",
      "photoUrl": "",
      "userId": "08271803314499472938"
     }
    },
    "outputId": "34902b98-efda-4aaa-8308-116d51522318"
   },
   "source": [
    "aug = naw.SynonymAug(aug_min=1, aug_max=10)\n",
    "X_aug = aug.augment(list(X_ultimate_train.values), n=2)"
   ],
   "execution_count": null,
   "outputs": [
    {
     "output_type": "execute_result",
     "data": {
      "application/vnd.google.colaboratory.intrinsic+json": {
       "type": "string"
      },
      "text/plain": [
       "'He pour out orange succus on his cereal.'"
      ]
     },
     "metadata": {
      "tags": []
     },
     "execution_count": 57
    }
   ]
  },
  {
   "cell_type": "code",
   "metadata": {
    "id": "iBhtUeahw9PR",
    "colab": {
     "base_uri": "https://localhost:8080/",
     "height": 282
    },
    "executionInfo": {
     "status": "error",
     "timestamp": 1617873345314,
     "user_tz": -120,
     "elapsed": 825,
     "user": {
      "displayName": "Marko Čuljak",
      "photoUrl": "",
      "userId": "08271803314499472938"
     }
    },
    "outputId": "c08368ae-6de8-42c0-a50c-5b28abbe6ee2"
   },
   "source": [
    ""
   ],
   "execution_count": null,
   "outputs": [
    {
     "output_type": "error",
     "ename": "AttributeError",
     "evalue": "ignored",
     "traceback": [
      "\u001B[0;31m---------------------------------------------------------------------------\u001B[0m",
      "\u001B[0;31mAttributeError\u001B[0m                            Traceback (most recent call last)",
      "\u001B[0;32m<ipython-input-59-cc883221f939>\u001B[0m in \u001B[0;36m<module>\u001B[0;34m()\u001B[0m\n\u001B[0;32m----> 1\u001B[0;31m \u001B[0mpd\u001B[0m\u001B[0;34m.\u001B[0m\u001B[0mdata_frame\u001B[0m\u001B[0;34m(\u001B[0m\u001B[0mX_aug\u001B[0m\u001B[0;34m)\u001B[0m\u001B[0;34m\u001B[0m\u001B[0;34m\u001B[0m\u001B[0m\n\u001B[0m",
      "\u001B[0;32m/usr/local/lib/python3.7/dist-packages/pandas/__init__.py\u001B[0m in \u001B[0;36m__getattr__\u001B[0;34m(name)\u001B[0m\n\u001B[1;32m    256\u001B[0m             \u001B[0;32mreturn\u001B[0m \u001B[0m_SparseArray\u001B[0m\u001B[0;34m\u001B[0m\u001B[0;34m\u001B[0m\u001B[0m\n\u001B[1;32m    257\u001B[0m \u001B[0;34m\u001B[0m\u001B[0m\n\u001B[0;32m--> 258\u001B[0;31m         \u001B[0;32mraise\u001B[0m \u001B[0mAttributeError\u001B[0m\u001B[0;34m(\u001B[0m\u001B[0;34mf\"module 'pandas' has no attribute '{name}'\"\u001B[0m\u001B[0;34m)\u001B[0m\u001B[0;34m\u001B[0m\u001B[0;34m\u001B[0m\u001B[0m\n\u001B[0m\u001B[1;32m    259\u001B[0m \u001B[0;34m\u001B[0m\u001B[0m\n\u001B[1;32m    260\u001B[0m \u001B[0;34m\u001B[0m\u001B[0m\n",
      "\u001B[0;31mAttributeError\u001B[0m: module 'pandas' has no attribute 'data_frame'"
     ]
    }
   ]
  },
  {
   "cell_type": "code",
   "metadata": {
    "colab": {
     "base_uri": "https://localhost:8080/"
    },
    "id": "39yOQz4lwFnC",
    "executionInfo": {
     "status": "ok",
     "timestamp": 1617872669849,
     "user_tz": -120,
     "elapsed": 641,
     "user": {
      "displayName": "Marko Čuljak",
      "photoUrl": "",
      "userId": "08271803314499472938"
     }
    },
    "outputId": "179152df-132e-451f-9d14-40aebedc066c"
   },
   "source": [
    "accuracy_score(y_test, y_pred.numpy())"
   ],
   "execution_count": null,
   "outputs": [
    {
     "output_type": "execute_result",
     "data": {
      "text/plain": [
       "0.572"
      ]
     },
     "metadata": {
      "tags": []
     },
     "execution_count": 45
    }
   ]
  },
  {
   "cell_type": "code",
   "metadata": {
    "colab": {
     "base_uri": "https://localhost:8080/"
    },
    "id": "LE0FQtjwwax2",
    "executionInfo": {
     "status": "ok",
     "timestamp": 1617811204573,
     "user_tz": -120,
     "elapsed": 737,
     "user": {
      "displayName": "Marko Čuljak",
      "photoUrl": "",
      "userId": "08271803314499472938"
     }
    },
    "outputId": "9058b1f7-3fef-4a1d-87f7-ad4856ae3eca"
   },
   "source": [
    "print(y_train)"
   ],
   "execution_count": null,
   "outputs": [
    {
     "output_type": "stream",
     "text": [
      "      1\n",
      "0      \n",
      "0     0\n",
      "1     0\n",
      "2     1\n",
      "3     1\n",
      "4     1\n",
      "...  ..\n",
      "9995  0\n",
      "9996  0\n",
      "9997  1\n",
      "9998  1\n",
      "9999  0\n",
      "\n",
      "[10000 rows x 1 columns]\n"
     ],
     "name": "stdout"
    }
   ]
  },
  {
   "cell_type": "code",
   "metadata": {
    "colab": {
     "base_uri": "https://localhost:8080/"
    },
    "id": "mBU8VOGMwl-L",
    "executionInfo": {
     "status": "ok",
     "timestamp": 1617806126849,
     "user_tz": -120,
     "elapsed": 445,
     "user": {
      "displayName": "Marko Čuljak",
      "photoUrl": "",
      "userId": "08271803314499472938"
     }
    },
    "outputId": "a2000512-35fc-46ff-84a7-3630dde655f6"
   },
   "source": [
    "print(y_test)"
   ],
   "execution_count": null,
   "outputs": [
    {
     "output_type": "stream",
     "text": [
      "      1\n",
      "0      \n",
      "1175  0\n",
      "452   0\n",
      "275   0\n",
      "869   0\n",
      "50    1\n",
      "...  ..\n",
      "1114  1\n",
      "8     1\n",
      "1945  0\n",
      "1053  0\n",
      "1123  0\n",
      "\n",
      "[1000 rows x 1 columns]\n"
     ],
     "name": "stdout"
    }
   ]
  },
  {
   "cell_type": "code",
   "metadata": {
    "colab": {
     "base_uri": "https://localhost:8080/"
    },
    "id": "-fIgXlx9wmrt",
    "executionInfo": {
     "status": "ok",
     "timestamp": 1617806131420,
     "user_tz": -120,
     "elapsed": 377,
     "user": {
      "displayName": "Marko Čuljak",
      "photoUrl": "",
      "userId": "08271803314499472938"
     }
    },
    "outputId": "2cb7990d-23b2-426f-e2fe-4f687a5a90e8"
   },
   "source": [
    "print(X_test)"
   ],
   "execution_count": null,
   "outputs": [
    {
     "output_type": "stream",
     "text": [
      "                                                  sent0                                              sent1\n",
      "id                                                                                                        \n",
      "1175        He loves to stroll at the park with his bed       He loves to stroll at the park with his dog.\n",
      "452       The inverter was able to power the continent.           The inverter was able to power the house\n",
      "275             The chef put extra lemons on the pizza.         The chef put extra mushrooms on the pizza.\n",
      "869                   sugar is used to make coffee sour                 sugar is used to make coffee sweet\n",
      "50    There are beautiful flowers here and there in ...  There are beautiful planes here and there in t...\n",
      "...                                                 ...                                                ...\n",
      "1114               If it had rained, you would got wet.           If it is a sunny day, you would got wet.\n",
      "8                                 ice hockey is a sport              ice hockey is a financial institution\n",
      "1945  He put water without a container in the freeze...    He put a watermelon in the freezer for 24 hours\n",
      "1053            The desert has sand that you can drink.  The desert is very dry, so bring water when yo...\n",
      "1123             My friend runs for 2 inches every day.              My friend runs for 2 miles every day.\n",
      "\n",
      "[1000 rows x 2 columns]\n"
     ],
     "name": "stdout"
    }
   ]
  },
  {
   "cell_type": "code",
   "metadata": {
    "id": "5X1C9vYqwn43"
   },
   "source": [
    ""
   ],
   "execution_count": null,
   "outputs": []
  }
 ]
}